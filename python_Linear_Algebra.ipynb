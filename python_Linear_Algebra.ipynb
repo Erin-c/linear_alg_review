{
 "cells": [
  {
   "cell_type": "markdown",
   "metadata": {},
   "source": [
    "#### Imports\n",
    "The tutorial below imports [NumPy](http://www.numpy.org/), [Pandas](https://plot.ly/pandas/intro-to-pandas-tutorial/), and [SciPy](https://www.scipy.org/)."
   ]
  },
  {
   "cell_type": "code",
   "execution_count": 1,
   "metadata": {},
   "outputs": [
    {
     "name": "stdout",
     "output_type": "stream",
     "text": [
      "Requirement already satisfied: plotly in /Library/Frameworks/Python.framework/Versions/3.6/lib/python3.6/site-packages (3.6.1)\n",
      "Requirement already satisfied: decorator>=4.0.6 in /Library/Frameworks/Python.framework/Versions/3.6/lib/python3.6/site-packages (from plotly) (4.3.2)\n",
      "Requirement already satisfied: pytz in /Library/Frameworks/Python.framework/Versions/3.6/lib/python3.6/site-packages (from plotly) (2018.5)\n",
      "Requirement already satisfied: nbformat>=4.2 in /Library/Frameworks/Python.framework/Versions/3.6/lib/python3.6/site-packages (from plotly) (4.4.0)\n",
      "Requirement already satisfied: requests in /Library/Frameworks/Python.framework/Versions/3.6/lib/python3.6/site-packages (from plotly) (2.18.4)\n",
      "Requirement already satisfied: six in /Library/Frameworks/Python.framework/Versions/3.6/lib/python3.6/site-packages (from plotly) (1.11.0)\n",
      "Requirement already satisfied: retrying>=1.3.3 in /Library/Frameworks/Python.framework/Versions/3.6/lib/python3.6/site-packages (from plotly) (1.3.3)\n",
      "Requirement already satisfied: ipython-genutils in /Library/Frameworks/Python.framework/Versions/3.6/lib/python3.6/site-packages (from nbformat>=4.2->plotly) (0.2.0)\n",
      "Requirement already satisfied: jsonschema!=2.5.0,>=2.4 in /Library/Frameworks/Python.framework/Versions/3.6/lib/python3.6/site-packages (from nbformat>=4.2->plotly) (2.6.0)\n",
      "Requirement already satisfied: traitlets>=4.1 in /Library/Frameworks/Python.framework/Versions/3.6/lib/python3.6/site-packages (from nbformat>=4.2->plotly) (4.3.2)\n",
      "Requirement already satisfied: jupyter-core in /Library/Frameworks/Python.framework/Versions/3.6/lib/python3.6/site-packages (from nbformat>=4.2->plotly) (4.4.0)\n",
      "Requirement already satisfied: urllib3<1.23,>=1.21.1 in /Library/Frameworks/Python.framework/Versions/3.6/lib/python3.6/site-packages (from requests->plotly) (1.22)\n",
      "Requirement already satisfied: certifi>=2017.4.17 in /Library/Frameworks/Python.framework/Versions/3.6/lib/python3.6/site-packages (from requests->plotly) (2017.11.5)\n",
      "Requirement already satisfied: chardet<3.1.0,>=3.0.2 in /Library/Frameworks/Python.framework/Versions/3.6/lib/python3.6/site-packages (from requests->plotly) (3.0.4)\n",
      "Requirement already satisfied: idna<2.7,>=2.5 in /Library/Frameworks/Python.framework/Versions/3.6/lib/python3.6/site-packages (from requests->plotly) (2.6)\n",
      "\u001b[33mYou are using pip version 19.0.2, however version 19.0.3 is available.\n",
      "You should consider upgrading via the 'pip install --upgrade pip' command.\u001b[0m\n"
     ]
    }
   ],
   "source": [
    "!pip3 install plotly\n",
    "\n",
    "import plotly\n",
    "\n",
    "# go to https://plot.ly/settings/api#/ and sign up to get a free API key\n",
    "plotly.tools.set_credentials_file(username='h12ercarv', api_key='p74Mm9gxZ65sYryGE9kx')\n",
    "\n",
    "import plotly.plotly as py\n",
    "import plotly.graph_objs as go\n",
    "import plotly.figure_factory as ff\n",
    "\n",
    "import numpy as np\n",
    "import pandas as pd\n",
    "import scipy"
   ]
  },
  {
   "cell_type": "markdown",
   "metadata": {},
   "source": [
    "#### Add Two Matrices\n",
    "Just like adding vectors, we can add matrices by adding corresponding terms"
   ]
  },
  {
   "cell_type": "code",
   "execution_count": 42,
   "metadata": {},
   "outputs": [
    {
     "name": "stdout",
     "output_type": "stream",
     "text": [
      "High five! You successfully sent some data to your account on plotly. View your plot in your browser at https://plot.ly/~h12ercarv/0 or inside your plot.ly account where it is named 'matrix-sum'\n"
     ]
    },
    {
     "name": "stderr",
     "output_type": "stream",
     "text": [
      "/Library/Frameworks/Python.framework/Versions/3.6/lib/python3.6/site-packages/IPython/core/display.py:689: UserWarning:\n",
      "\n",
      "Consider using IPython.display.IFrame instead\n",
      "\n"
     ]
    },
    {
     "data": {
      "text/html": [
       "<iframe id=\"igraph\" scrolling=\"no\" style=\"border:none;\" seamless=\"seamless\" src=\"https://plot.ly/~h12ercarv/0.embed\" height=\"525px\" width=\"100%\"></iframe>"
      ],
      "text/plain": [
       "<plotly.tools.PlotlyDisplay object>"
      ]
     },
     "execution_count": 42,
     "metadata": {},
     "output_type": "execute_result"
    }
   ],
   "source": [
    "matrix1 = np.array(\n",
    "    [[0, 4],\n",
    "     [2, 0]]\n",
    ")\n",
    "\n",
    "matrix2 = np.array(\n",
    "    [[-1, 2],\n",
    "     [1, -2]]\n",
    ")\n",
    "\n",
    "# add matrix1 and matrix2 in a variable called matrix_sum and convert it to a list\n",
    "matrix_sum = (matrix1 + matrix2).tolist()\n",
    "\n",
    "colorscale = [[0, '#EAEFC4'], [1, '#9BDF46']]\n",
    "font=['#000000', '#000000']\n",
    "\n",
    "table = ff.create_annotated_heatmap(matrix_sum, colorscale=colorscale, font_colors=font)\n",
    "table['layout']['yaxis']['autorange'] = \"reversed\"\n",
    "py.iplot(table, filename='matrix-sum')"
   ]
  },
  {
   "cell_type": "markdown",
   "metadata": {},
   "source": [
    "#### Subtract Two Matrices\n",
    "Similarly we can subtract matrices by subtracting corresponding terms"
   ]
  },
  {
   "cell_type": "code",
   "execution_count": 43,
   "metadata": {},
   "outputs": [
    {
     "data": {
      "text/html": [
       "<iframe id=\"igraph\" scrolling=\"no\" style=\"border:none;\" seamless=\"seamless\" src=\"https://plot.ly/~h12ercarv/14.embed\" height=\"525px\" width=\"100%\"></iframe>"
      ],
      "text/plain": [
       "<plotly.tools.PlotlyDisplay object>"
      ]
     },
     "execution_count": 43,
     "metadata": {},
     "output_type": "execute_result"
    }
   ],
   "source": [
    "matrix1 = np.array(\n",
    "    [[0, 4],\n",
    "     [2, 0]]\n",
    ")\n",
    "\n",
    "matrix2 = np.array(\n",
    "    [[-1, 2],\n",
    "     [1, -2]]\n",
    ")\n",
    "\n",
    "# subtract matrix1 from matrix2 in a variable called matrix_diff and convert it to a list\n",
    "matrix_diff = (matrix2 - matrix1).tolist()\n",
    "\n",
    "colorscale = [[0, '#EAEFC4'], [1, '#9BDF46']]\n",
    "font=['#000000', '#000000']\n",
    "\n",
    "table = ff.create_annotated_heatmap(matrix_diff, colorscale=colorscale, font_colors=font)\n",
    "table['layout']['yaxis']['autorange'] = \"reversed\"\n",
    "py.iplot(table, filename='matrix-diff')"
   ]
  },
  {
   "cell_type": "markdown",
   "metadata": {},
   "source": [
    "#### Scalar Multiplication\n",
    "Find the product of a matrix and a scalar"
   ]
  },
  {
   "cell_type": "code",
   "execution_count": 44,
   "metadata": {},
   "outputs": [],
   "source": [
    "matrix1 = np.array(\n",
    "    [[1, 4],\n",
    "     [2, 0]]\n",
    ")\n",
    "\n",
    "# multiply matrix1 by the scalar 3 and convert it to a list\n",
    "matrix_scalar = (matrix1 * 3).tolist()\n",
    "\n",
    "colorscale = [[0, '#F1FFD9'], [1, '#8BDBF5']]\n",
    "font=['#000000', '#000000']"
   ]
  },
  {
   "cell_type": "code",
   "execution_count": 45,
   "metadata": {
    "scrolled": true
   },
   "outputs": [
    {
     "data": {
      "text/html": [
       "<iframe id=\"igraph\" scrolling=\"no\" style=\"border:none;\" seamless=\"seamless\" src=\"https://plot.ly/~h12ercarv/8.embed\" height=\"525px\" width=\"100%\"></iframe>"
      ],
      "text/plain": [
       "<plotly.tools.PlotlyDisplay object>"
      ]
     },
     "execution_count": 45,
     "metadata": {},
     "output_type": "execute_result"
    }
   ],
   "source": [
    "# prints matrix1\n",
    "table = ff.create_annotated_heatmap(matrix1.tolist(), colorscale=colorscale, font_colors=font)\n",
    "table['layout']['yaxis']['autorange'] = \"reversed\"\n",
    "py.iplot(table, filename='matrix1')"
   ]
  },
  {
   "cell_type": "code",
   "execution_count": 6,
   "metadata": {
    "scrolled": true
   },
   "outputs": [
    {
     "data": {
      "text/html": [
       "<iframe id=\"igraph\" scrolling=\"no\" style=\"border:none;\" seamless=\"seamless\" src=\"https://plot.ly/~h12ercarv/10.embed\" height=\"525px\" width=\"100%\"></iframe>"
      ],
      "text/plain": [
       "<plotly.tools.PlotlyDisplay object>"
      ]
     },
     "execution_count": 6,
     "metadata": {},
     "output_type": "execute_result"
    }
   ],
   "source": [
    "# prints matrix_scalar\n",
    "table = ff.create_annotated_heatmap(matrix_scalar, colorscale=colorscale, font_colors=font)\n",
    "table['layout']['yaxis']['autorange'] = \"reversed\"\n",
    "py.iplot(table, filename='matrix-scalar')"
   ]
  },
  {
   "cell_type": "markdown",
   "metadata": {},
   "source": [
    "#### Find the Magnitude\n",
    "Remember that a vector's magnitude is it's length"
   ]
  },
  {
   "cell_type": "code",
   "execution_count": 52,
   "metadata": {},
   "outputs": [
    {
     "name": "stdout",
     "output_type": "stream",
     "text": [
      "[1 4 3]\n",
      "5.0990195135927845\n"
     ]
    }
   ],
   "source": [
    "# chances are you'll want to use some functions from the python math library \n",
    "# https://docs.python.org/3/library/math.html\n",
    "import math\n",
    "vector = np.array([1, 4, 3])\n",
    "print(vector)\n",
    "\n",
    "# calculate the magnitude sum of the square\n",
    "magnitude = math.sqrt(np.sum(np.square(vector)))\n",
    "print(magnitude)\n"
   ]
  },
  {
   "cell_type": "markdown",
   "metadata": {},
   "source": [
    "#### Find the Direction"
   ]
  },
  {
   "cell_type": "markdown",
   "metadata": {},
   "source": [
    "Remember that a vector's direction is represented by a unit vector, that is a vector of magnitude 1 in the same direction as the given vector (your answer should be another vector)."
   ]
  },
  {
   "cell_type": "code",
   "execution_count": 53,
   "metadata": {},
   "outputs": [
    {
     "name": "stdout",
     "output_type": "stream",
     "text": [
      "11.916375287812984 [ 71.49825173  59.58187644 107.24737759]\n"
     ]
    }
   ],
   "source": [
    "vector = np.array([6, 5, 9])\n",
    "\n",
    "# calculate the direction of the vector (refer to the previous step to calculate its magnitude first)\n",
    "\n",
    "magnitude = math.sqrt(np.sum(np.square(vector)))\n",
    "direction = magnitude * vector\n",
    "\n",
    "print(magnitude, direction)"
   ]
  },
  {
   "cell_type": "markdown",
   "metadata": {},
   "source": [
    "#### Dot Product\n",
    "\n",
    "The dot product of two vectors is the geometric projection of one vector onto another, put another way, appling the directional growth of one vector to another. The result is how much stronger we've made the original vector. Refer to the documentation for additional functions you might want to use https://docs.scipy.org/doc/numpy/reference/routines.linalg.html\n",
    "\n",
    "- Zero: we don't have any growth in the original direction\n",
    "- Positive number: we have some growth in the original direction\n",
    "- Negative number: we have negative (reverse) growth in the original direction"
   ]
  },
  {
   "cell_type": "code",
   "execution_count": 54,
   "metadata": {},
   "outputs": [
    {
     "name": "stdout",
     "output_type": "stream",
     "text": [
      "62\n"
     ]
    }
   ],
   "source": [
    "vector1 = np.array([7, 3, 8])\n",
    "vector2 = np.array([6, 4, 1])\n",
    "\n",
    "# calculate the dot product of vector1 and vector2\n",
    "dot_product = np.dot(vector1, vector2)\n",
    "\n",
    "print(dot_product)"
   ]
  },
  {
   "cell_type": "markdown",
   "metadata": {},
   "source": [
    "#### Angles between vectors\n",
    "\n",
    "Find the angle between vector1 and vector2 above"
   ]
  },
  {
   "cell_type": "code",
   "execution_count": 58,
   "metadata": {},
   "outputs": [
    {
     "name": "stdout",
     "output_type": "stream",
     "text": [
      "0.6903321442364705 39.55311832696616\n"
     ]
    }
   ],
   "source": [
    "# in a variable called angle_r, calculate the angle in radians \n",
    "# then in a variable called angle_d convert that angle to degrees\n",
    "denom = math.sqrt(np.sum(np.square(vector1))) * math.sqrt(np.sum(np.square(vector2)))\n",
    "angle_r = math.acos(np.dot(vector1, vector2)/denom)\n",
    "angle_d = math.degrees(angle_r)\n",
    "\n",
    "print(angle_r, angle_d)"
   ]
  },
  {
   "cell_type": "markdown",
   "metadata": {},
   "source": [
    "#### Cross Product\n",
    "Find the cross product of vector1 x vector2"
   ]
  },
  {
   "cell_type": "code",
   "execution_count": null,
   "metadata": {},
   "outputs": [],
   "source": []
  }
 ],
 "metadata": {
  "anaconda-cloud": {},
  "kernelspec": {
   "display_name": "Python 3",
   "language": "python",
   "name": "python3"
  },
  "language_info": {
   "codemirror_mode": {
    "name": "ipython",
    "version": 3
   },
   "file_extension": ".py",
   "mimetype": "text/x-python",
   "name": "python",
   "nbconvert_exporter": "python",
   "pygments_lexer": "ipython3",
   "version": "3.6.3"
  }
 },
 "nbformat": 4,
 "nbformat_minor": 1
}

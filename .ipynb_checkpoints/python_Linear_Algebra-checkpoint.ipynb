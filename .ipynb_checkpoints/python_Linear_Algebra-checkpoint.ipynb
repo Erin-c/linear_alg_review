{
 "cells": [
  {
   "cell_type": "markdown",
   "metadata": {},
   "source": [
    "#### Imports\n",
    "The tutorial below imports [NumPy](http://www.numpy.org/), [Pandas](https://plot.ly/pandas/intro-to-pandas-tutorial/), and [SciPy](https://www.scipy.org/).\n",
    "\n",
    "Pip not working for you? Try this: https://vgkits.org/blog/pip3-macos-howto/"
   ]
  },
  {
   "cell_type": "code",
   "execution_count": null,
   "metadata": {},
   "outputs": [],
   "source": [
    "# you may have to use !pip install plotly if this doesn't work\n",
    "!pip3 install plotly\n",
    "\n",
    "import plotly\n",
    "\n",
    "# go to https://plot.ly/settings/api#/ and sign up to get a free API key\n",
    "plotly.tools.set_credentials_file(username='YOUR_USERNAME', api_key='YOUR_API_KEY')\n",
    "\n",
    "import plotly.plotly as py\n",
    "import plotly.graph_objs as go\n",
    "import plotly.figure_factory as ff\n",
    "\n",
    "import numpy as np\n",
    "import pandas as pd\n",
    "import scipy"
   ]
  },
  {
   "cell_type": "markdown",
   "metadata": {},
   "source": [
    "#### Add Two Matrices\n",
    "Just like adding vectors, we can add matrices by adding corresponding terms"
   ]
  },
  {
   "cell_type": "code",
   "execution_count": null,
   "metadata": {},
   "outputs": [],
   "source": [
    "matrix1 = np.array(\n",
    "    [[0, 4],\n",
    "     [2, 0]]\n",
    ")\n",
    "\n",
    "matrix2 = np.array(\n",
    "    [[-1, 2],\n",
    "     [1, -2]]\n",
    ")\n",
    "\n",
    "# add matrix1 and matrix2 in a variable called matrix_sum and convert it to a list\n",
    "\n",
    "\n",
    "colorscale = [[0, '#EAEFC4'], [1, '#9BDF46']]\n",
    "font=['#000000', '#000000']\n",
    "\n",
    "table = ff.create_annotated_heatmap(matrix_sum, colorscale=colorscale, font_colors=font)\n",
    "table['layout']['yaxis']['autorange'] = \"reversed\"\n",
    "py.iplot(table, filename='matrix-sum')"
   ]
  },
  {
   "cell_type": "markdown",
   "metadata": {},
   "source": [
    "#### Subtract Two Matrices\n",
    "Similarly we can subtract matrices by subtracting corresponding terms"
   ]
  },
  {
   "cell_type": "code",
   "execution_count": null,
   "metadata": {},
   "outputs": [],
   "source": [
    "matrix1 = np.array(\n",
    "    [[0, 4],\n",
    "     [2, 0]]\n",
    ")\n",
    "\n",
    "matrix2 = np.array(\n",
    "    [[-1, 2],\n",
    "     [1, -2]]\n",
    ")\n",
    "\n",
    "# subtract matrix1 from matrix2 in a variable called matrix_diff and convert it to a list\n",
    "\n",
    "\n",
    "colorscale = [[0, '#EAEFC4'], [1, '#9BDF46']]\n",
    "font=['#000000', '#000000']\n",
    "\n",
    "table = ff.create_annotated_heatmap(matrix_diff, colorscale=colorscale, font_colors=font)\n",
    "table['layout']['yaxis']['autorange'] = \"reversed\"\n",
    "py.iplot(table, filename='matrix-diff')"
   ]
  },
  {
   "cell_type": "markdown",
   "metadata": {},
   "source": [
    "#### Scalar Multiplication\n",
    "Find the product of a matrix and a scalar"
   ]
  },
  {
   "cell_type": "code",
   "execution_count": null,
   "metadata": {},
   "outputs": [],
   "source": [
    "matrix1 = np.array(\n",
    "    [[1, 4],\n",
    "     [2, 0]]\n",
    ")\n",
    "\n",
    "# in a variable called matrix_scalar, calculate the product matrix1 and the scalar 3 and convert it to a list\n",
    "\n",
    "\n",
    "colorscale = [[0, '#F1FFD9'], [1, '#8BDBF5']]\n",
    "font=['#000000', '#000000']"
   ]
  },
  {
   "cell_type": "code",
   "execution_count": null,
   "metadata": {
    "scrolled": true
   },
   "outputs": [],
   "source": [
    "# prints matrix1\n",
    "table = ff.create_annotated_heatmap(matrix1.tolist(), colorscale=colorscale, font_colors=font)\n",
    "table['layout']['yaxis']['autorange'] = \"reversed\"\n",
    "py.iplot(table, filename='matrix1')"
   ]
  },
  {
   "cell_type": "code",
   "execution_count": null,
   "metadata": {
    "scrolled": true
   },
   "outputs": [],
   "source": [
    "# prints matrix_scalar\n",
    "table = ff.create_annotated_heatmap(matrix_scalar, colorscale=colorscale, font_colors=font)\n",
    "table['layout']['yaxis']['autorange'] = \"reversed\"\n",
    "py.iplot(table, filename='matrix-scalar')"
   ]
  },
  {
   "cell_type": "markdown",
   "metadata": {},
   "source": [
    "#### Find the Magnitude\n",
    "Remember that a vector's magnitude is it's length"
   ]
  },
  {
   "cell_type": "code",
   "execution_count": null,
   "metadata": {},
   "outputs": [],
   "source": [
    "# chances are you'll want to use some functions from the python math library \n",
    "# https://docs.python.org/3/library/math.html\n",
    "import math\n",
    "vector = np.array([1, 4, 3])\n",
    "\n",
    "# calculate the magnitude (square root of the sum of the squares of the vector)\n"
   ]
  },
  {
   "cell_type": "markdown",
   "metadata": {},
   "source": [
    "#### Find the Direction"
   ]
  },
  {
   "cell_type": "markdown",
   "metadata": {},
   "source": [
    "Remember that a vector's direction is represented by a unit vector, that is a vector of magnitude 1 in the same direction as the given vector (your answer should be another vector)."
   ]
  },
  {
   "cell_type": "code",
   "execution_count": null,
   "metadata": {},
   "outputs": [],
   "source": [
    "vector = np.array([6, 5, 9])\n",
    "\n",
    "# calculate the direction of the vector (refer to the previous step to calculate its magnitude first)\n"
   ]
  },
  {
   "cell_type": "markdown",
   "metadata": {},
   "source": [
    "#### Dot Product\n",
    "\n",
    "The dot product of two vectors is the geometric projection of one vector onto another, put another way, appling the directional growth of one vector to another. The result is how much stronger we've made the original vector. Refer to the documentation for additional functions you might want to use https://docs.scipy.org/doc/numpy/reference/routines.linalg.html\n",
    "\n",
    "- Zero: we don't have any growth in the original direction\n",
    "- Positive number: we have some growth in the original direction\n",
    "- Negative number: we have negative (reverse) growth in the original direction"
   ]
  },
  {
   "cell_type": "code",
   "execution_count": null,
   "metadata": {},
   "outputs": [],
   "source": [
    "vector1 = np.array([7, 3, 8])\n",
    "vector2 = np.array([6, 4, 1])\n",
    "\n",
    "# calculate the dot product of vector1 and vector2\n"
   ]
  },
  {
   "cell_type": "markdown",
   "metadata": {},
   "source": [
    "#### Angles between vectors\n",
    "\n",
    "Find the angle between vector1 and vector2 above"
   ]
  },
  {
   "cell_type": "code",
   "execution_count": null,
   "metadata": {},
   "outputs": [],
   "source": [
    "# in a variable called angle_r, calculate the angle in radians \n",
    "# then in a variable called angle_d convert that angle to degrees\n"
   ]
  },
  {
   "cell_type": "markdown",
   "metadata": {},
   "source": [
    "#### Cross Product\n",
    "Find the cross product of vector1 x vector2"
   ]
  },
  {
   "cell_type": "code",
   "execution_count": null,
   "metadata": {},
   "outputs": [],
   "source": [
    "from IPython.display import Image\n",
    "Image(\"cross_product.png\")"
   ]
  },
  {
   "cell_type": "code",
   "execution_count": null,
   "metadata": {},
   "outputs": [],
   "source": [
    "# in a variable called cross_product calculate vector1 x vector2 (this will be a vector)\n"
   ]
  },
  {
   "cell_type": "markdown",
   "metadata": {},
   "source": [
    "cross products are orthogonal (at a right angle) to both vectors. This means that the dot product of the cross product and either of the given vectors should be zero"
   ]
  },
  {
   "cell_type": "code",
   "execution_count": null,
   "metadata": {},
   "outputs": [],
   "source": [
    "# calculate the dot product of the cross product and vector1\n",
    "\n",
    "\n",
    "# calculate the dot product of the cross product and vector2\n",
    "\n",
    "\n",
    "# are they both zero? what does that mean?"
   ]
  },
  {
   "cell_type": "markdown",
   "metadata": {},
   "source": [
    "#### Putting it together\n",
    "Write a function that given a 3x1 vector, A, in the form of an array, prints the magnitude and direction"
   ]
  },
  {
   "cell_type": "code",
   "execution_count": null,
   "metadata": {},
   "outputs": [],
   "source": [
    "def vector_info(vector):\n",
    "    # TODO\n",
    "    \n",
    "# test your function\n",
    "vector_info(np.array([7, 3, 8]))"
   ]
  },
  {
   "cell_type": "markdown",
   "metadata": {},
   "source": [
    "Write a function that given two 3x1 vectors, A and B, in the form of arrays, prints A+B, B-A, the angle between A and B in radians, A·B, and A x B"
   ]
  },
  {
   "cell_type": "code",
   "execution_count": null,
   "metadata": {},
   "outputs": [],
   "source": [
    "def vector_operations(vector1, vector2):\n",
    "    # TODO\n",
    "\n",
    "# test your function\n",
    "vector_operations(np.array([7, 3, 8]), np.array([-29,  41,  10]))"
   ]
  }
 ],
 "metadata": {
  "anaconda-cloud": {},
  "kernelspec": {
   "display_name": "Python 3",
   "language": "python",
   "name": "python3"
  },
  "language_info": {
   "codemirror_mode": {
    "name": "ipython",
    "version": 3
   },
   "file_extension": ".py",
   "mimetype": "text/x-python",
   "name": "python",
   "nbconvert_exporter": "python",
   "pygments_lexer": "ipython3",
   "version": "3.6.4"
  }
 },
 "nbformat": 4,
 "nbformat_minor": 1
}
